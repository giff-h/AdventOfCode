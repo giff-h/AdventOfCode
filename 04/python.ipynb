{
 "cells": [
  {
   "cell_type": "code",
   "execution_count": 1,
   "metadata": {
    "collapsed": true
   },
   "outputs": [],
   "source": [
    "from hashlib import md5"
   ]
  },
  {
   "cell_type": "code",
   "execution_count": 2,
   "metadata": {
    "collapsed": true
   },
   "outputs": [],
   "source": [
    "graphics = False"
   ]
  },
  {
   "cell_type": "code",
   "execution_count": 3,
   "metadata": {
    "collapsed": true
   },
   "outputs": [],
   "source": [
    "def main():\n",
    "#    with open(\"input.txt\") as file:\n",
    "#        data = file.read().strip()\n",
    "#    if \"\\n\" in data:\n",
    "#        data = data.split(\"\\n\")\n",
    "#    data = process_input(data)\n",
    "    data = \"yzbqklnj\"\n",
    "    part1 = evalp1(data, graphics)\n",
    "    print(\"Part 1:\")\n",
    "    print(part1[0])\n",
    "    print(\"Part 2:\")\n",
    "    print(evalp2(data, part1[1], graphics))"
   ]
  },
  {
   "cell_type": "code",
   "execution_count": null,
   "metadata": {
    "collapsed": true
   },
   "outputs": [],
   "source": [
    "def process_input(inp):\n",
    "    pass"
   ]
  },
  {
   "cell_type": "code",
   "execution_count": 4,
   "metadata": {
    "collapsed": true
   },
   "outputs": [],
   "source": [
    "def evalp1(data, graphics):\n",
    "    i = 0\n",
    "    while not md5(bytes(data + str(i), encoding=\"utf-8\")).hexdigest().startswith(\"00000\"):\n",
    "        i += 1\n",
    "    return (i, None)"
   ]
  },
  {
   "cell_type": "code",
   "execution_count": 5,
   "metadata": {
    "collapsed": true
   },
   "outputs": [],
   "source": [
    "def evalp2(data, part1, graphics):\n",
    "    i = 0\n",
    "    while not md5(bytes(data + str(i), encoding=\"utf-8\")).hexdigest().startswith(\"000000\"):\n",
    "        i += 1\n",
    "    return i"
   ]
  },
  {
   "cell_type": "code",
   "execution_count": 6,
   "metadata": {
    "collapsed": false
   },
   "outputs": [
    {
     "name": "stdout",
     "output_type": "stream",
     "text": [
      "Part 1:\n",
      "282749\n",
      "Part 2:\n",
      "9962624\n"
     ]
    }
   ],
   "source": [
    "main()"
   ]
  }
 ],
 "metadata": {
  "kernelspec": {
   "display_name": "Python 3",
   "language": "python",
   "name": "python3"
  },
  "language_info": {
   "codemirror_mode": {
    "name": "ipython",
    "version": 3
   },
   "file_extension": ".py",
   "mimetype": "text/x-python",
   "name": "python",
   "nbconvert_exporter": "python",
   "pygments_lexer": "ipython3",
   "version": "3.5.1"
  }
 },
 "nbformat": 4,
 "nbformat_minor": 0
}
