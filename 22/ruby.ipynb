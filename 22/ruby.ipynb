{
 "cells": [
  {
   "cell_type": "code",
   "execution_count": 1,
   "metadata": {
    "collapsed": false
   },
   "outputs": [
    {
     "data": {
      "text/plain": [
       "false"
      ]
     },
     "execution_count": 1,
     "metadata": {},
     "output_type": "execute_result"
    }
   ],
   "source": [
    "GRAPHICS = false"
   ]
  },
  {
   "cell_type": "code",
   "execution_count": 2,
   "metadata": {
    "collapsed": false
   },
   "outputs": [
    {
     "data": {
      "text/plain": [
       ":main"
      ]
     },
     "execution_count": 2,
     "metadata": {},
     "output_type": "execute_result"
    }
   ],
   "source": [
    "def main\n",
    "  input = File.read(\"input.txt\").chomp\n",
    "  input = input.split(\"\\n\") if input.include?(\"\\n\")\n",
    "  data = process_input(input)\n",
    "  part1 = evalp1(data, GRAPHICS)\n",
    "  puts(\"Part 1:\", part1[0])\n",
    "#  puts(\"Part 2:\", evalp2(data, part1[1], GRAPHICS))\n",
    "end"
   ]
  },
  {
   "cell_type": "code",
   "execution_count": 3,
   "metadata": {
    "collapsed": false
   },
   "outputs": [
    {
     "data": {
      "text/plain": [
       ":process_input"
      ]
     },
     "execution_count": 3,
     "metadata": {},
     "output_type": "execute_result"
    }
   ],
   "source": [
    "def process_input(input)\n",
    "  boss = input.map do |line|\n",
    "    line = line.split(\": \")\n",
    "    [line[0][0...3].downcase, line[1].to_i]\n",
    "  end\n",
    "  boss = boss.to_h\n",
    "  return [boss['hit'], boss['dam']]\n",
    "end"
   ]
  },
  {
   "cell_type": "code",
   "execution_count": null,
   "metadata": {
    "collapsed": true
   },
   "outputs": [],
   "source": [
    "def evalp1(data, graphics)\n",
    "  \n",
    "end"
   ]
  },
  {
   "cell_type": "code",
   "execution_count": null,
   "metadata": {
    "collapsed": true
   },
   "outputs": [],
   "source": [
    "def evalp2(data, part1, graphics)\n",
    "  \n",
    "end"
   ]
  },
  {
   "cell_type": "code",
   "execution_count": null,
   "metadata": {
    "collapsed": true
   },
   "outputs": [],
   "source": [
    "main"
   ]
  }
 ],
 "metadata": {
  "kernelspec": {
   "display_name": "Ruby 2.2.4",
   "language": "ruby",
   "name": "ruby"
  },
  "language_info": {
   "file_extension": ".rb",
   "mimetype": "application/x-ruby",
   "name": "ruby",
   "version": "2.2.4"
  }
 },
 "nbformat": 4,
 "nbformat_minor": 0
}
