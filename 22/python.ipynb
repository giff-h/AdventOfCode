{
 "cells": [
  {
   "cell_type": "code",
   "execution_count": 2,
   "metadata": {
    "collapsed": true
   },
   "outputs": [],
   "source": [
    "graphics = False"
   ]
  },
  {
   "cell_type": "code",
   "execution_count": 3,
   "metadata": {
    "collapsed": true
   },
   "outputs": [],
   "source": [
    "def main():\n",
    "    with open(\"input.txt\") as file:\n",
    "        data = file.read().strip()\n",
    "    if \"\\n\" in data:\n",
    "        data = data.split(\"\\n\")\n",
    "    data = process_input(data)\n",
    "    part1 = evalp1(data, graphics)\n",
    "    print(\"Part 1:\")\n",
    "    print(part1[0])\n",
    "    print(\"Part 2:\")\n",
    "#    print(evalp2(data, part1[1], graphics))"
   ]
  },
  {
   "cell_type": "code",
   "execution_count": 4,
   "metadata": {
    "collapsed": true
   },
   "outputs": [],
   "source": [
    "def process_input(inp):\n",
    "    boss = {}\n",
    "    for line in inp:\n",
    "        line = line.split(\": \")\n",
    "        boss[line[0][:3].lower()] = int(line[1])\n",
    "    return (boss['hit'], boss['dam'])"
   ]
  },
  {
   "cell_type": "code",
   "execution_count": 5,
   "metadata": {
    "collapsed": true
   },
   "outputs": [],
   "source": [
    "def evalp1(data, graphics):\n",
    "    spells = {\"Magic Missile\": {\"cost\": 53,  \"damage\": 4},\n",
    "              \"Drain\":         {\"cost\": 73,  \"damage\": 2, \"hp\": 2},\n",
    "              \"Shield\":        {\"cost\": 113, \"turns\": 6, \"armor\": 7,  \"constant\": False},\n",
    "              \"Poison\":        {\"cost\": 173, \"turns\": 6, \"damage\": 3, \"constant\": True},\n",
    "              \"Recharge\":      {\"cost\": 229, \"turns\": 5, \"mana\": 101, \"constant\": True}}\n",
    "    stages = [(data, (50, 0, 500, {}), 0)]\n",
    "    next_stages = []\n",
    "    playerturn = True\n",
    "    while True:\n",
    "        for stage in stages:\n",
    "            if stage[0] == True: continue\n",
    "            boss, player, spent = stage\n",
    "            for name, spell in spells.items():\n",
    "                if name in player[3].keys(): continue\n",
    "                spent += spell[\"cost\"]\n",
    "                turn = battle(boss, player, {name: spell}, playerturn) + (spent,)\n",
    "                if turn[0] and not turn in next_stages: next_stages.append(turn)\n",
    "        playerturn = not playerturn\n",
    "        if all(x[0] == True for x in next_stages): return (min(list(zip(*next_stages))[1]), spells)\n",
    "        stages = next_stages\n",
    "        next_stages = []"
   ]
  },
  {
   "cell_type": "code",
   "execution_count": null,
   "metadata": {
    "collapsed": true
   },
   "outputs": [],
   "source": [
    "def evalp2(data, part1, graphics):\n",
    "    pass"
   ]
  },
  {
   "cell_type": "code",
   "execution_count": 6,
   "metadata": {
    "collapsed": true
   },
   "outputs": [],
   "source": [
    "def battle(boss, player, spell, playerturn):\n",
    "    bh, bd = boss\n",
    "    ph, pa, mana, effects = player\n",
    "    add_effect = {}\n",
    "    if playerturn:\n",
    "        cast = list(spell.values())[0]\n",
    "        if \"turns\" in cast:\n",
    "            add_effect = spell\n",
    "            if not cast[\"constant\"]:\n",
    "                pa += cast[\"armor\"] #if \"armor\" in cast\n",
    "        else:\n",
    "            if \"damage\" in cast:\n",
    "                bh -= cast[\"damage\"] #if \"damage\" in cast\n",
    "                if bh <= 0: return (True,)\n",
    "            if \"hp\" in cast: ph += cast[\"hp\"]\n",
    "    end_effects = []\n",
    "    for name, e in effects.items():\n",
    "        if e[\"constant\"]:\n",
    "            if \"damage\" in e:\n",
    "                bh -= e[\"damage\"]\n",
    "                if bh <= 0: return (True,)\n",
    "            if \"mana\" in e:\n",
    "                mana += e[\"mana\"]\n",
    "        e[\"turns\"] -= 1\n",
    "        if e[\"turns\"] == 0:\n",
    "            if \"armor\" in e: pa -= e[\"armor\"]\n",
    "            end_effects.append(name)\n",
    "    for name in end_effects: del effects[name]\n",
    "    effects.update(add_effect)\n",
    "    if not playerturn:\n",
    "        damage = bd - pa\n",
    "        if damage < 1: damage = 1\n",
    "        ph -= damage\n",
    "        if ph <= 0: return (False,)\n",
    "    return ((bh, bd), (ph, pa, mana, effects))"
   ]
  },
  {
   "cell_type": "code",
   "execution_count": 7,
   "metadata": {
    "collapsed": false
   },
   "outputs": [
    {
     "name": "stdout",
     "output_type": "stream",
     "text": [
      "Part 1:\n",
      "1459\n",
      "Part 2:\n"
     ]
    }
   ],
   "source": [
    "main()"
   ]
  }
 ],
 "metadata": {
  "kernelspec": {
   "display_name": "Python 3",
   "language": "python",
   "name": "python3"
  },
  "language_info": {
   "codemirror_mode": {
    "name": "ipython",
    "version": 3
   },
   "file_extension": ".py",
   "mimetype": "text/x-python",
   "name": "python",
   "nbconvert_exporter": "python",
   "pygments_lexer": "ipython3",
   "version": "3.5.1"
  }
 },
 "nbformat": 4,
 "nbformat_minor": 0
}
