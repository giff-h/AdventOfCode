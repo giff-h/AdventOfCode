{
 "cells": [
  {
   "cell_type": "code",
   "execution_count": 2,
   "metadata": {
    "collapsed": true
   },
   "outputs": [],
   "source": [
    "input_file = open(\"input.txt\")\n",
    "data = [line.strip() for line in input_file.readlines()]\n",
    "input_file.close()"
   ]
  },
  {
   "cell_type": "code",
   "execution_count": 18,
   "metadata": {
    "collapsed": true
   },
   "outputs": [],
   "source": [
    "# data = [\".#.#.#\", \"...##.\", \"#....#\", \"..#...\", \"#.#..#\", \"####..\"]"
   ]
  },
  {
   "cell_type": "code",
   "execution_count": 3,
   "metadata": {
    "collapsed": true
   },
   "outputs": [],
   "source": [
    "def chr_to_bool(grid):\n",
    "    return [[i == '#' for i in line] for line in grid]"
   ]
  },
  {
   "cell_type": "code",
   "execution_count": 4,
   "metadata": {
    "collapsed": true
   },
   "outputs": [],
   "source": [
    "def bool_to_chr(grid):\n",
    "    return [''.join('#' if i else '.' for i in line) for line in grid]"
   ]
  },
  {
   "cell_type": "code",
   "execution_count": 5,
   "metadata": {
    "collapsed": true
   },
   "outputs": [],
   "source": [
    "def neighbors(grid, x, y):\n",
    "    ymax = len(grid)\n",
    "    xmax = list(set(len(row) for row in grid)) # verify all rows are equal in length\n",
    "    if len(xmax) > 1:\n",
    "        raise \"Error: Grid not rectangular! \" + str(xmax)\n",
    "    xmax = xmax[0]\n",
    "    xstart = 0 if x == 0 else x-1 # left side\n",
    "    ystart = 0 if y == 0 else y-1 # top side\n",
    "    xend = xmax if x == xmax-1 else x+2 # right side ; +2 because range stops one short\n",
    "    yend = ymax if y == ymax-1 else y+2 # bottom side\n",
    "    ret = []\n",
    "    for ix in range(xstart, xend):\n",
    "        for iy in range(ystart, yend):\n",
    "            if ix == x and iy == y:\n",
    "                continue\n",
    "            ret.append(grid[iy][ix])\n",
    "    return ret"
   ]
  },
  {
   "cell_type": "code",
   "execution_count": 6,
   "metadata": {
    "collapsed": true
   },
   "outputs": [],
   "source": [
    "def switch(light, surround):\n",
    "    if light:\n",
    "        return surround.count(True) in (2, 3)\n",
    "    else:\n",
    "        return surround.count(True) == 3"
   ]
  },
  {
   "cell_type": "code",
   "execution_count": 7,
   "metadata": {
    "collapsed": true
   },
   "outputs": [],
   "source": [
    "def step(grid, n=1, part2=False):\n",
    "    stepped = [[switch(light, neighbors(grid, x, y)) for x, light in enumerate(row)] for y, row in enumerate(grid[:])]\n",
    "    if part2:\n",
    "        stepped[0][0] = True\n",
    "        stepped[0][-1] = True\n",
    "        stepped[-1][0] = True\n",
    "        stepped[-1][-1] = True\n",
    "    if n > 1:\n",
    "        for i in range(n-1):\n",
    "            stepped = step(stepped, 1, part2)\n",
    "    return stepped"
   ]
  },
  {
   "cell_type": "code",
   "execution_count": 8,
   "metadata": {
    "collapsed": true
   },
   "outputs": [],
   "source": [
    "lights = chr_to_bool(data)"
   ]
  },
  {
   "cell_type": "code",
   "execution_count": 9,
   "metadata": {
    "collapsed": false
   },
   "outputs": [
    {
     "name": "stdout",
     "output_type": "stream",
     "text": [
      "821\n"
     ]
    }
   ],
   "source": [
    "print(sum(row.count(True) for row in step(lights, 100)))"
   ]
  },
  {
   "cell_type": "code",
   "execution_count": 10,
   "metadata": {
    "collapsed": true
   },
   "outputs": [],
   "source": [
    "lights[0][0] = True\n",
    "lights[0][-1] = True\n",
    "lights[-1][0] = True\n",
    "lights[-1][-1] = True"
   ]
  },
  {
   "cell_type": "code",
   "execution_count": 11,
   "metadata": {
    "collapsed": false
   },
   "outputs": [
    {
     "name": "stdout",
     "output_type": "stream",
     "text": [
      "886\n"
     ]
    }
   ],
   "source": [
    "print(sum(row.count(True) for row in step(lights, 100, True)))"
   ]
  }
 ],
 "metadata": {
  "kernelspec": {
   "display_name": "Python 3",
   "language": "python",
   "name": "python3"
  },
  "language_info": {
   "codemirror_mode": {
    "name": "ipython",
    "version": 3
   },
   "file_extension": ".py",
   "mimetype": "text/x-python",
   "name": "python",
   "nbconvert_exporter": "python",
   "pygments_lexer": "ipython3",
   "version": "3.5.1"
  }
 },
 "nbformat": 4,
 "nbformat_minor": 0
}
