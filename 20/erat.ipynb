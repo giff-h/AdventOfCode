{
 "cells": [
  {
   "cell_type": "code",
   "execution_count": 1,
   "metadata": {
    "collapsed": true
   },
   "outputs": [],
   "source": [
    "from functools import reduce"
   ]
  },
  {
   "cell_type": "code",
   "execution_count": 2,
   "metadata": {
    "collapsed": true
   },
   "outputs": [],
   "source": [
    "_d = {}\n",
    "_startat = 2\n",
    "_primes = []"
   ]
  },
  {
   "cell_type": "code",
   "execution_count": 3,
   "metadata": {
    "collapsed": false
   },
   "outputs": [],
   "source": [
    "def primes(n=None):\n",
    "    if n and not isinstance(n, int): raise TypeError(repr(n) + \" is not int\")\n",
    "    global _d, _startat, _primes\n",
    "    for q in _primes:\n",
    "        if n and q > n: break\n",
    "        yield q\n",
    "    if not n or n >= _startat:\n",
    "        q = _startat\n",
    "        while True:\n",
    "            if not q in _d:\n",
    "                _primes.append(q)\n",
    "                if not n and _startat <= q: _startat = q + 1\n",
    "                yield q\n",
    "                _d[q * q] = [q]\n",
    "            else:\n",
    "                for p in _d[q]: _d.setdefault(p + q, []).append(p)\n",
    "                del _d[q]\n",
    "            q += 1\n",
    "            if n and q > n:\n",
    "                _startat = q\n",
    "                return"
   ]
  },
  {
   "cell_type": "code",
   "execution_count": 4,
   "metadata": {
    "collapsed": false
   },
   "outputs": [],
   "source": [
    "def primefactors(n):\n",
    "    if n == 0: raise ZeroDivisionError\n",
    "    if not isinstance(n, int): raise TypeError(repr(n) + \" is not int\")\n",
    "    if n < 0:\n",
    "        n = -n\n",
    "        pairs = [(-1, 1)]\n",
    "    else:\n",
    "        pairs = []\n",
    "    for prime in primes():\n",
    "        e = 0\n",
    "        value, mod = divmod(n, prime)\n",
    "        while mod == 0:\n",
    "            n = value\n",
    "            e += 1\n",
    "            value, mod = divmod(n, prime)\n",
    "        if not e == 0: pairs.append((prime, e))\n",
    "        if value <= prime: break\n",
    "    if n > 1: pairs.append((n, 1))\n",
    "    return pairs"
   ]
  },
  {
   "cell_type": "code",
   "execution_count": 5,
   "metadata": {
    "collapsed": true
   },
   "outputs": [],
   "source": [
    "def divisorGen(n):\n",
    "    if not isinstance(n, int): raise TypeError(repr(n) + \" is not int\")\n",
    "    factors = primefactors(n)\n",
    "    nfactors = len(factors)\n",
    "    f = [0] * nfactors\n",
    "    divisors = []\n",
    "    while True:\n",
    "        divisors.append(reduce(lambda x, y: x * factors[y][0]**f[y], range(nfactors), 1))\n",
    "        i = 0\n",
    "        while True:\n",
    "            f[i] += 1\n",
    "            if f[i] <= factors[i][1]: break\n",
    "            f[i] = 0\n",
    "            i += 1\n",
    "            if i >= nfactors: return divisors"
   ]
  }
 ],
 "metadata": {
  "kernelspec": {
   "display_name": "Python 3",
   "language": "python",
   "name": "python3"
  },
  "language_info": {
   "codemirror_mode": {
    "name": "ipython",
    "version": 3
   },
   "file_extension": ".py",
   "mimetype": "text/x-python",
   "name": "python",
   "nbconvert_exporter": "python",
   "pygments_lexer": "ipython3",
   "version": "3.5.1"
  }
 },
 "nbformat": 4,
 "nbformat_minor": 0
}
