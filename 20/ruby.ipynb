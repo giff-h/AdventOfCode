{
 "cells": [
  {
   "cell_type": "code",
   "execution_count": 1,
   "metadata": {
    "collapsed": false
   },
   "outputs": [
    {
     "data": {
      "text/plain": [
       "true"
      ]
     },
     "execution_count": 1,
     "metadata": {},
     "output_type": "execute_result"
    }
   ],
   "source": [
    "require 'prime'"
   ]
  },
  {
   "cell_type": "code",
   "execution_count": 2,
   "metadata": {
    "collapsed": false
   },
   "outputs": [
    {
     "data": {
      "text/plain": [
       "false"
      ]
     },
     "execution_count": 2,
     "metadata": {},
     "output_type": "execute_result"
    }
   ],
   "source": [
    "GRAPHICS = false"
   ]
  },
  {
   "cell_type": "code",
   "execution_count": 3,
   "metadata": {
    "collapsed": false
   },
   "outputs": [
    {
     "data": {
      "text/plain": [
       ":main"
      ]
     },
     "execution_count": 3,
     "metadata": {},
     "output_type": "execute_result"
    }
   ],
   "source": [
    "def main\n",
    "#  input = File.read(\"input.txt\").chomp\n",
    "#  input = input.split(\"\\n\") if input.include?(\"\\n\")\n",
    "#  data = process_input(input)\n",
    "  data = 36000000\n",
    "  part1 = evalp1(data, GRAPHICS)\n",
    "  puts(\"Part 1:\", part1[0])\n",
    "  puts(\"Part 2:\", evalp2(data, part1[1], GRAPHICS))\n",
    "end"
   ]
  },
  {
   "cell_type": "code",
   "execution_count": null,
   "metadata": {
    "collapsed": false
   },
   "outputs": [],
   "source": [
    "def process_input(input)\n",
    "  \n",
    "end"
   ]
  },
  {
   "cell_type": "code",
   "execution_count": 4,
   "metadata": {
    "collapsed": false
   },
   "outputs": [
    {
     "data": {
      "text/plain": [
       ":evalp1"
      ]
     },
     "execution_count": 4,
     "metadata": {},
     "output_type": "execute_result"
    }
   ],
   "source": [
    "def evalp1(data, graphics)\n",
    "  n = 2\n",
    "  until 10*divisorgen(n) >= data\n",
    "    n += 1\n",
    "  end\n",
    "  return [n, nil]\n",
    "end"
   ]
  },
  {
   "cell_type": "code",
   "execution_count": 5,
   "metadata": {
    "collapsed": false
   },
   "outputs": [
    {
     "data": {
      "text/plain": [
       ":evalp2"
      ]
     },
     "execution_count": 5,
     "metadata": {},
     "output_type": "execute_result"
    }
   ],
   "source": [
    "def evalp2(data, part1, graphics)\n",
    "  n = 2\n",
    "  until 11*divisorgen(n, true) >= data\n",
    "    n += 1\n",
    "  end\n",
    "  return n\n",
    "end"
   ]
  },
  {
   "cell_type": "code",
   "execution_count": 6,
   "metadata": {
    "collapsed": false
   },
   "outputs": [
    {
     "data": {
      "text/plain": [
       ":divisorgen"
      ]
     },
     "execution_count": 6,
     "metadata": {},
     "output_type": "execute_result"
    }
   ],
   "source": [
    "def divisorgen(n, p2=false)\n",
    "  # http://stackoverflow.com/questions/171765/what-is-the-best-way-to-get-all-the-divisors-of-a-number\n",
    "  factors = Prime.prime_division(n)\n",
    "  nfactors = factors.size\n",
    "  f = Array.new(nfactors, 0)\n",
    "  divisorsum = 0\n",
    "  loop do\n",
    "    divisor = nfactors.times.collect { |x| factors[x][0] ** f[x] }.reduce(:*)\n",
    "    divisorsum += divisor if !p2 || n / divisor < 50\n",
    "    i = 0\n",
    "    loop do\n",
    "      f[i] += 1\n",
    "      break if f[i] <= factors[i][1]\n",
    "      f[i] = 0\n",
    "      i += 1\n",
    "      return divisorsum if i >= nfactors\n",
    "    end\n",
    "  end\n",
    "end"
   ]
  },
  {
   "cell_type": "code",
   "execution_count": 7,
   "metadata": {
    "collapsed": false
   },
   "outputs": [
    {
     "name": "stdout",
     "output_type": "stream",
     "text": [
      "Part 1:\n",
      "831600\n",
      "Part 2:\n",
      "884520\n"
     ]
    }
   ],
   "source": [
    "main"
   ]
  }
 ],
 "metadata": {
  "kernelspec": {
   "display_name": "Ruby 2.2.4",
   "language": "ruby",
   "name": "ruby"
  },
  "language_info": {
   "file_extension": ".rb",
   "mimetype": "application/x-ruby",
   "name": "ruby",
   "version": "2.2.4"
  }
 },
 "nbformat": 4,
 "nbformat_minor": 0
}
