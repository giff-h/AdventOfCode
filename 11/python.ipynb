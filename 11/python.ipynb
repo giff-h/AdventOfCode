{
 "cells": [
  {
   "cell_type": "code",
   "execution_count": 12,
   "metadata": {
    "collapsed": true
   },
   "outputs": [],
   "source": [
    "old_pass = \"hxbxwxba\""
   ]
  },
  {
   "cell_type": "code",
   "execution_count": 15,
   "metadata": {
    "collapsed": true
   },
   "outputs": [],
   "source": [
    "password = old_pass"
   ]
  },
  {
   "cell_type": "code",
   "execution_count": 1,
   "metadata": {
    "collapsed": false
   },
   "outputs": [],
   "source": [
    "def rule1(password):\n",
    "    i = 0\n",
    "    while i < (len(password) - 2):\n",
    "        a = ord(password[i])\n",
    "        b = ord(password[i+1])\n",
    "        c = ord(password[i+2])\n",
    "        if c - b == 1 and b - a == 1:\n",
    "            return True\n",
    "        i += 1\n",
    "    return False"
   ]
  },
  {
   "cell_type": "code",
   "execution_count": 2,
   "metadata": {
    "collapsed": true
   },
   "outputs": [],
   "source": [
    "def rule2(password):\n",
    "    return not 'i' in password and not 'o' in password and not 'l' in password"
   ]
  },
  {
   "cell_type": "code",
   "execution_count": 3,
   "metadata": {
    "collapsed": true
   },
   "outputs": [],
   "source": [
    "def rule3(password):\n",
    "    double_count = 0\n",
    "    i = 0\n",
    "    while i < (len(password) - 1):\n",
    "        if password[i] == password[i+1]:\n",
    "            double_count += 1\n",
    "            i += 2\n",
    "        else:\n",
    "            i += 1\n",
    "    return double_count >= 2"
   ]
  },
  {
   "cell_type": "code",
   "execution_count": 16,
   "metadata": {
    "collapsed": false
   },
   "outputs": [
    {
     "name": "stdout",
     "output_type": "stream",
     "text": [
      "hxbxxyzz\n"
     ]
    }
   ],
   "source": [
    "while True:\n",
    "    if len(password) > 8:\n",
    "        raise(\"error somewhere\")\n",
    "    begin = password[:-1]\n",
    "    letter = ord(password[-1]) + 1\n",
    "    if letter in [105, 108, 111]:\n",
    "        letter += 1\n",
    "    end = ''\n",
    "\n",
    "    while letter == 123:\n",
    "        end = 'a' + end\n",
    "        letter = ord(begin[-1]) + 1\n",
    "        if letter in [105, 108, 111]:\n",
    "            letter += 1\n",
    "        begin = begin[:-1]\n",
    "\n",
    "    password = begin + chr(letter) + end\n",
    "    \n",
    "    if rule1(password) and rule2(password) and rule3(password):\n",
    "        break\n",
    "\n",
    "print(password)"
   ]
  },
  {
   "cell_type": "code",
   "execution_count": 17,
   "metadata": {
    "collapsed": true
   },
   "outputs": [],
   "source": [
    "# again"
   ]
  },
  {
   "cell_type": "code",
   "execution_count": 18,
   "metadata": {
    "collapsed": false
   },
   "outputs": [
    {
     "name": "stdout",
     "output_type": "stream",
     "text": [
      "hxcaabcc\n"
     ]
    }
   ],
   "source": [
    "while True:\n",
    "    if len(password) > 8:\n",
    "        raise(\"error somewhere\")\n",
    "    begin = password[:-1]\n",
    "    letter = ord(password[-1]) + 1\n",
    "    if letter in [105, 108, 111]:\n",
    "        letter += 1\n",
    "    end = ''\n",
    "\n",
    "    while letter == 123:\n",
    "        end = 'a' + end\n",
    "        letter = ord(begin[-1]) + 1\n",
    "        if letter in [105, 108, 111]:\n",
    "            letter += 1\n",
    "        begin = begin[:-1]\n",
    "\n",
    "    password = begin + chr(letter) + end\n",
    "    \n",
    "    if rule1(password) and rule2(password) and rule3(password):\n",
    "        break\n",
    "\n",
    "print(password)"
   ]
  }
 ],
 "metadata": {
  "kernelspec": {
   "display_name": "Python 3",
   "language": "python",
   "name": "python3"
  },
  "language_info": {
   "codemirror_mode": {
    "name": "ipython",
    "version": 3
   },
   "file_extension": ".py",
   "mimetype": "text/x-python",
   "name": "python",
   "nbconvert_exporter": "python",
   "pygments_lexer": "ipython3",
   "version": "3.4.3"
  }
 },
 "nbformat": 4,
 "nbformat_minor": 0
}
