{
 "cells": [
  {
   "cell_type": "code",
   "execution_count": 4,
   "metadata": {
    "collapsed": true
   },
   "outputs": [],
   "source": [
    "import re"
   ]
  },
  {
   "cell_type": "code",
   "execution_count": 5,
   "metadata": {
    "collapsed": true
   },
   "outputs": [],
   "source": [
    "input_file = open(\"input.txt\")\n",
    "data = input_file.readlines()\n",
    "input_file.close()"
   ]
  },
  {
   "cell_type": "code",
   "execution_count": 8,
   "metadata": {
    "collapsed": false
   },
   "outputs": [
    {
     "data": {
      "text/plain": [
       "('turn off', '499,499', '500,500')"
      ]
     },
     "execution_count": 8,
     "metadata": {},
     "output_type": "execute_result"
    }
   ],
   "source": [
    "lights = re.compile('(turn on|toggle|turn off) ([0-9]+,[0-9]+) through ([0-9]+,[0-9]+)')\n",
    "lights.search(\"turn off 499,499 through 500,500\").groups()"
   ]
  },
  {
   "cell_type": "code",
   "execution_count": 13,
   "metadata": {
    "collapsed": true
   },
   "outputs": [],
   "source": [
    "lights = re.compile('(turn on|toggle|turn off) ([0-9]+,[0-9]+) through ([0-9]+,[0-9]+)')"
   ]
  },
  {
   "cell_type": "code",
   "execution_count": 15,
   "metadata": {
    "collapsed": false
   },
   "outputs": [
    {
     "data": {
      "text/plain": [
       "400410"
      ]
     },
     "execution_count": 15,
     "metadata": {},
     "output_type": "execute_result"
    }
   ],
   "source": [
    "grid = [[False] * 1000 for i in range(1000)]\n",
    "for inst in data:\n",
    "    inst = lights.search(inst).groups()\n",
    "    start = [int(i) for i in inst[1].split(',')]\n",
    "    end = [int(i)+1 for i in inst[2].split(',')]\n",
    "    if inst[0] == \"turn on\":\n",
    "        y = [True] * (end[1] - start[1])\n",
    "        for x in range(start[0], end[0]):\n",
    "            grid[x][start[1]:end[1]] = y\n",
    "    elif inst[0] == \"turn off\":\n",
    "        y = [False] * (end[1] - start[1])\n",
    "        for x in range(start[0], end[0]):\n",
    "            grid[x][start[1]:end[1]] = y\n",
    "    elif inst[0] == \"toggle\":\n",
    "        for x in range(start[0], end[0]):\n",
    "            for y in range(start[1], end[1]):\n",
    "                grid[x][y] = not grid[x][y]\n",
    "len([light for row in grid for light in row if light])"
   ]
  },
  {
   "cell_type": "code",
   "execution_count": 17,
   "metadata": {
    "collapsed": false
   },
   "outputs": [
    {
     "data": {
      "text/plain": [
       "15343601"
      ]
     },
     "execution_count": 17,
     "metadata": {},
     "output_type": "execute_result"
    }
   ],
   "source": [
    "grid = [[0] * 1000 for i in range(1000)]\n",
    "for inst in data:\n",
    "    inst = lights.search(inst).groups()\n",
    "    start = [int(i) for i in inst[1].split(',')]\n",
    "    end = [int(i)+1 for i in inst[2].split(',')]\n",
    "    if inst[0] == \"turn on\":\n",
    "        for x in range(start[0], end[0]):\n",
    "            for y in range(start[1], end[1]):\n",
    "                grid[x][y] += 1\n",
    "    elif inst[0] == \"turn off\":\n",
    "        for x in range(start[0], end[0]):\n",
    "            for y in range(start[1], end[1]):\n",
    "                grid[x][y] -= 1\n",
    "                if grid[x][y] < 0:\n",
    "                    grid[x][y] = 0\n",
    "    elif inst[0] == \"toggle\":\n",
    "        for x in range(start[0], end[0]):\n",
    "            for y in range(start[1], end[1]):\n",
    "                grid[x][y] += 2\n",
    "sum(light for row in grid for light in row)"
   ]
  }
 ],
 "metadata": {
  "kernelspec": {
   "display_name": "Python 3",
   "language": "python",
   "name": "python3"
  },
  "language_info": {
   "codemirror_mode": {
    "name": "ipython",
    "version": 3
   },
   "file_extension": ".py",
   "mimetype": "text/x-python",
   "name": "python",
   "nbconvert_exporter": "python",
   "pygments_lexer": "ipython3",
   "version": "3.4.3"
  }
 },
 "nbformat": 4,
 "nbformat_minor": 0
}
