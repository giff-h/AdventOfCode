{
 "cells": [
  {
   "cell_type": "code",
   "execution_count": 2,
   "metadata": {
    "collapsed": true
   },
   "outputs": [],
   "source": [
    "import re"
   ]
  },
  {
   "cell_type": "code",
   "execution_count": 4,
   "metadata": {
    "collapsed": true
   },
   "outputs": [],
   "source": [
    "input_file = open(\"input.txt\")\n",
    "data = input_file.readlines()\n",
    "input_file.close()"
   ]
  },
  {
   "cell_type": "code",
   "execution_count": 10,
   "metadata": {
    "collapsed": false
   },
   "outputs": [
    {
     "data": {
      "text/plain": [
       "238"
      ]
     },
     "execution_count": 10,
     "metadata": {},
     "output_type": "execute_result"
    }
   ],
   "source": [
    "vowels = re.compile('[aoeui].*[aoeui].*[aoeui]')\n",
    "def has_double(nice):\n",
    "    for i in range(len(nice)-1):\n",
    "        if nice[i] == nice[i+1]:\n",
    "            return True\n",
    "    return False\n",
    "len([nice for nice in data if vowels.search(nice) and has_double(nice) and not 'ab' in nice and not 'cd' in nice and not 'pq' in nice and not 'xy' in nice])"
   ]
  },
  {
   "cell_type": "code",
   "execution_count": 19,
   "metadata": {
    "collapsed": false
   },
   "outputs": [
    {
     "data": {
      "text/plain": [
       "69"
      ]
     },
     "execution_count": 19,
     "metadata": {},
     "output_type": "execute_result"
    }
   ],
   "source": [
    "def is_nice(nice):\n",
    "    dual_pair = False\n",
    "    split_by_one = False\n",
    "    for i in range(len(nice)-1):\n",
    "        if nice.count(nice[i:i+2]) > 1:\n",
    "            dual_pair = True\n",
    "        if i < len(nice)-2 and nice[i] == nice[i+2]:\n",
    "            split_by_one = True\n",
    "    return dual_pair and split_by_one\n",
    "len([nice for nice in data if is_nice(nice)])"
   ]
  }
 ],
 "metadata": {
  "kernelspec": {
   "display_name": "Python 3",
   "language": "python",
   "name": "python3"
  },
  "language_info": {
   "codemirror_mode": {
    "name": "ipython",
    "version": 3
   },
   "file_extension": ".py",
   "mimetype": "text/x-python",
   "name": "python",
   "nbconvert_exporter": "python",
   "pygments_lexer": "ipython3",
   "version": "3.4.3"
  }
 },
 "nbformat": 4,
 "nbformat_minor": 0
}
