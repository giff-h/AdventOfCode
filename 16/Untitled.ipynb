{
 "cells": [
  {
   "cell_type": "code",
   "execution_count": 1,
   "metadata": {
    "collapsed": true
   },
   "outputs": [],
   "source": [
    "import re"
   ]
  },
  {
   "cell_type": "code",
   "execution_count": 2,
   "metadata": {
    "collapsed": true
   },
   "outputs": [],
   "source": [
    "input_file = open(\"input.txt\")\n",
    "data = [line.strip() for line in input_file.readlines()]\n",
    "input_file.close()"
   ]
  },
  {
   "cell_type": "code",
   "execution_count": 4,
   "metadata": {
    "collapsed": true
   },
   "outputs": [],
   "source": [
    "parse = re.compile(\"Sue ([0-9]+): ([a-z]+): ([0-9]+), ([a-z]+): ([0-9]+), ([a-z]+): ([0-9]+)\")"
   ]
  },
  {
   "cell_type": "code",
   "execution_count": 5,
   "metadata": {
    "collapsed": true
   },
   "outputs": [],
   "source": [
    "parsed_data = [parse.match(line).groups() for line in data]"
   ]
  },
  {
   "cell_type": "code",
   "execution_count": 10,
   "metadata": {
    "collapsed": false
   },
   "outputs": [],
   "source": [
    "match = {\"children\": 3, \"cats\": 7, \"samoyeds\": 2, \"pomeranians\": 3, \"akitas\": 0, \"vizslas\": 0, \"goldfish\": 5, \"trees\": 3, \"cars\": 2, \"perfumes\": 1}"
   ]
  },
  {
   "cell_type": "code",
   "execution_count": 11,
   "metadata": {
    "collapsed": false
   },
   "outputs": [
    {
     "name": "stdout",
     "output_type": "stream",
     "text": [
      "103\n"
     ]
    }
   ],
   "source": [
    "for line in parsed_data:\n",
    "    sue, id1, amt1, id2, amt2, id3, amt3 = line\n",
    "    sue, amt1, amt2, amt3 = map(int, (sue, amt1, amt2, amt3))\n",
    "    if match[id1] == amt1 and match[id2] == amt2 and match[id3] == amt3:\n",
    "        print(sue)\n",
    "        break"
   ]
  },
  {
   "cell_type": "code",
   "execution_count": 17,
   "metadata": {
    "collapsed": false
   },
   "outputs": [
    {
     "name": "stdout",
     "output_type": "stream",
     "text": [
      "405\n"
     ]
    }
   ],
   "source": [
    "for line in parsed_data:\n",
    "    sue, id1, amt1, id2, amt2, id3, amt3 = line\n",
    "    sue, amt1, amt2, amt3 = map(int, (sue, amt1, amt2, amt3))\n",
    "    report = {id1: amt1, id2: amt2, id3: amt3}\n",
    "    for name, amt in report.items():\n",
    "        if name in [\"cats\", \"trees\"]:\n",
    "            report[name] = range(0, amt)\n",
    "        elif name in [\"pomeranians\", \"goldfish\"]:\n",
    "            report[name] = range(amt+1, 100)\n",
    "        else:\n",
    "            report[name] = [amt]\n",
    "    if match[id1] in report[id1] and match[id2] in report[id2] and match[id3] in report[id3]:\n",
    "        print(sue)\n",
    "        break"
   ]
  }
 ],
 "metadata": {
  "kernelspec": {
   "display_name": "Python 3",
   "language": "python",
   "name": "python3"
  },
  "language_info": {
   "codemirror_mode": {
    "name": "ipython",
    "version": 3
   },
   "file_extension": ".py",
   "mimetype": "text/x-python",
   "name": "python",
   "nbconvert_exporter": "python",
   "pygments_lexer": "ipython3",
   "version": "3.4.3"
  }
 },
 "nbformat": 4,
 "nbformat_minor": 0
}
