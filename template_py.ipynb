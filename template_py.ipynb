{
 "cells": [
  {
   "cell_type": "code",
   "execution_count": null,
   "metadata": {
    "collapsed": true
   },
   "outputs": [],
   "source": [
    "graphics = False\n",
    "\n",
    "def main():\n",
    "    with open(\"input.txt\") as file:\n",
    "        data = file.read().strip()\n",
    "    if \"\\n\" in data:\n",
    "        data = data.split(\"\\n\")\n",
    "    data = process_input(data)\n",
    "    part1 = evalp1(data, graphics)\n",
    "    print(\"Part 1:\")\n",
    "    print(part1[0])\n",
    "    print(\"Part 2:\")\n",
    "#    print(evalp2(data, part1[1], graphics))\n",
    "\n",
    "def process_input(inp):\n",
    "    pass\n",
    "\n",
    "def evalp1(data, graphics):\n",
    "    pass\n",
    "\n",
    "def evalp2(data, part1, graphics):\n",
    "    pass\n",
    "\n",
    "main()"
   ]
  }
 ],
 "metadata": {
  "kernelspec": {
   "display_name": "Python 3",
   "language": "python",
   "name": "python3"
  },
  "language_info": {
   "codemirror_mode": {
    "name": "ipython",
    "version": 3
   },
   "file_extension": ".py",
   "mimetype": "text/x-python",
   "name": "python",
   "nbconvert_exporter": "python",
   "pygments_lexer": "ipython3",
   "version": "3.5.1"
  }
 },
 "nbformat": 4,
 "nbformat_minor": 0
}
