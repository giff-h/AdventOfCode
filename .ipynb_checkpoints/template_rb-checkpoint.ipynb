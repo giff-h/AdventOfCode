{
 "cells": [
  {
   "cell_type": "code",
   "execution_count": null,
   "metadata": {
    "collapsed": true
   },
   "outputs": [],
   "source": [
    "GRAPHICS = false\n",
    "\n",
    "def main\n",
    "  input = File.read(\"input.txt\").chomp\n",
    "  input = input.split(\"\\n\") if input.include?(\"\\n\")\n",
    "  data = process_input(input)\n",
    "  part1 = evalp1(data, GRAPHICS)\n",
    "  puts(\"Part 1:\", part1[0])\n",
    "#  puts(\"Part 2:\", evalp2(data, part1[1], GRAPHICS))\n",
    "end\n",
    "\n",
    "def process_input(input)\n",
    "  \n",
    "end\n",
    "\n",
    "def evalp1(data, graphics)\n",
    "  \n",
    "end\n",
    "\n",
    "def evalp2(data, part1, graphics)\n",
    "  \n",
    "end\n",
    "\n",
    "main"
   ]
  }
 ],
 "metadata": {
  "kernelspec": {
   "display_name": "Ruby 2.2.4",
   "language": "ruby",
   "name": "ruby"
  },
  "language_info": {
   "file_extension": ".rb",
   "mimetype": "application/x-ruby",
   "name": "ruby",
   "version": "2.2.4"
  }
 },
 "nbformat": 4,
 "nbformat_minor": 0
}
