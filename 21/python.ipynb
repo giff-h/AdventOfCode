{
 "cells": [
  {
   "cell_type": "code",
   "execution_count": 1,
   "metadata": {
    "collapsed": true
   },
   "outputs": [],
   "source": [
    "graphics = False"
   ]
  },
  {
   "cell_type": "code",
   "execution_count": 2,
   "metadata": {
    "collapsed": true
   },
   "outputs": [],
   "source": [
    "def main():\n",
    "    with open(\"input.txt\") as file:\n",
    "        data = file.read().strip()\n",
    "    if \"\\n\" in data:\n",
    "        data = data.split(\"\\n\")\n",
    "    data = process_input(data)\n",
    "    part1 = evalp1(data, graphics)\n",
    "    print(\"Part 1:\")\n",
    "    print(part1[0])\n",
    "    print(\"Part 2:\")\n",
    "    print(evalp2(data, part1[1], graphics))"
   ]
  },
  {
   "cell_type": "code",
   "execution_count": 3,
   "metadata": {
    "collapsed": true
   },
   "outputs": [],
   "source": [
    "def process_input(inp):\n",
    "    boss = {}\n",
    "    for line in inp:\n",
    "        line = line.split(\": \")\n",
    "        boss[line[0][:3].lower()] = int(line[1])\n",
    "    return (boss['hit'], boss['dam'], boss['arm'])"
   ]
  },
  {
   "cell_type": "code",
   "execution_count": 4,
   "metadata": {
    "collapsed": true
   },
   "outputs": [],
   "source": [
    "def evalp1(data, graphics):\n",
    "    shop = {\"Weapons\": ((8,   4, 0),\n",
    "                        (10,  5, 0),\n",
    "                        (25,  6, 0),\n",
    "                        (40,  7, 0),\n",
    "                        (74,  8, 0)),\n",
    "            \"Armor\":   ((13,  0, 1),\n",
    "                        (31,  0, 2),\n",
    "                        (53,  0, 3),\n",
    "                        (75,  0, 4),\n",
    "                        (102, 0, 5),\n",
    "                        (0,   0, 0)),\n",
    "            \"Rings\":   ((25,  1, 0),\n",
    "                        (50,  2, 0),\n",
    "                        (100, 3, 0),\n",
    "                        (20,  0, 1),\n",
    "                        (40,  0, 2),\n",
    "                        (80,  0, 3),\n",
    "                        (0,   0, 0))}\n",
    "    cheapest = None\n",
    "    hitpoints = 100\n",
    "    for cost, damage, armor in combinations(shop):\n",
    "        if cheapest and cost >= cheapest: continue\n",
    "        if battle(data, (hitpoints, damage, armor)): cheapest = cost\n",
    "    return (cheapest, shop)"
   ]
  },
  {
   "cell_type": "code",
   "execution_count": 5,
   "metadata": {
    "collapsed": true
   },
   "outputs": [],
   "source": [
    "def evalp2(data, part1, graphics):\n",
    "    expensive = None\n",
    "    hitpoints = 100\n",
    "    for cost, damage, armor in combinations(part1):\n",
    "        if expensive and cost <= expensive: continue\n",
    "        if not battle(data, (hitpoints, damage, armor)): expensive = cost\n",
    "    return expensive"
   ]
  },
  {
   "cell_type": "code",
   "execution_count": 6,
   "metadata": {
    "collapsed": false
   },
   "outputs": [],
   "source": [
    "def combinations(shop):\n",
    "    for weapon in shop[\"Weapons\"]:\n",
    "        for armor in shop[\"Armor\"]:\n",
    "            for ring1 in shop[\"Rings\"]:\n",
    "                for ring2 in shop[\"Rings\"]:\n",
    "                    if not ring2 == (0, 0, 0) and ring1 == ring2: continue\n",
    "                    for ring3 in shop[\"Rings\"]:\n",
    "                        if not ring3 == (0, 0, 0) and (ring1 == ring3 or ring2 == ring3): continue\n",
    "                        yield tuple(map(sum, zip(weapon, armor, ring1, ring2, ring3)))"
   ]
  },
  {
   "cell_type": "code",
   "execution_count": 7,
   "metadata": {
    "collapsed": true
   },
   "outputs": [],
   "source": [
    "def battle(boss, player):\n",
    "    bh, bd, ba = boss\n",
    "    ph, pd, pa = player\n",
    "    playerturn = True\n",
    "    while True:\n",
    "        if playerturn:\n",
    "            damage = pd-ba\n",
    "            if damage < 1: damage = 1\n",
    "            bh -= damage\n",
    "            if bh <= 0: return True\n",
    "        else:\n",
    "            damage = bd-pa\n",
    "            if damage < 1: damage = 1\n",
    "            ph -= damage\n",
    "            if ph <= 0: return False\n",
    "        playerturn = not playerturn"
   ]
  },
  {
   "cell_type": "code",
   "execution_count": 8,
   "metadata": {
    "collapsed": false
   },
   "outputs": [
    {
     "name": "stdout",
     "output_type": "stream",
     "text": [
      "Part 1:\n",
      "111\n",
      "Part 2:\n",
      "188\n"
     ]
    }
   ],
   "source": [
    "main()"
   ]
  }
 ],
 "metadata": {
  "kernelspec": {
   "display_name": "Python 3",
   "language": "python",
   "name": "python3"
  },
  "language_info": {
   "codemirror_mode": {
    "name": "ipython",
    "version": 3
   },
   "file_extension": ".py",
   "mimetype": "text/x-python",
   "name": "python",
   "nbconvert_exporter": "python",
   "pygments_lexer": "ipython3",
   "version": "3.5.1"
  }
 },
 "nbformat": 4,
 "nbformat_minor": 0
}
