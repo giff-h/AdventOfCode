{
 "cells": [
  {
   "cell_type": "code",
   "execution_count": 1,
   "metadata": {
    "collapsed": false
   },
   "outputs": [
    {
     "data": {
      "text/plain": [
       "false"
      ]
     },
     "execution_count": 1,
     "metadata": {},
     "output_type": "execute_result"
    }
   ],
   "source": [
    "GRAPHICS = false"
   ]
  },
  {
   "cell_type": "code",
   "execution_count": 16,
   "metadata": {
    "collapsed": false
   },
   "outputs": [
    {
     "data": {
      "text/plain": [
       ":main"
      ]
     },
     "execution_count": 16,
     "metadata": {},
     "output_type": "execute_result"
    }
   ],
   "source": [
    "def main\n",
    "  input = File.read(\"input.txt\").chomp\n",
    "  input = input.split(\"\\n\") if input.include?(\"\\n\")\n",
    "  data = process_input(input)\n",
    "  part1 = evalp1(data, GRAPHICS)\n",
    "  puts(\"Part 1:\", part1[0])\n",
    "  puts(\"Part 2:\", evalp2(data, part1[1], GRAPHICS))\n",
    "end"
   ]
  },
  {
   "cell_type": "code",
   "execution_count": 13,
   "metadata": {
    "collapsed": false
   },
   "outputs": [
    {
     "data": {
      "text/plain": [
       ":process_input"
      ]
     },
     "execution_count": 13,
     "metadata": {},
     "output_type": "execute_result"
    }
   ],
   "source": [
    "def process_input(input)\n",
    "  boss = input.map do |line|\n",
    "    line = line.split(\": \")\n",
    "    [line[0][0...3].downcase, line[1].to_i]\n",
    "  end\n",
    "  boss = boss.to_h\n",
    "  return [boss['hit'], boss['dam'], boss['arm']]\n",
    "end"
   ]
  },
  {
   "cell_type": "code",
   "execution_count": 22,
   "metadata": {
    "collapsed": false
   },
   "outputs": [
    {
     "data": {
      "text/plain": [
       ":evalp1"
      ]
     },
     "execution_count": 22,
     "metadata": {},
     "output_type": "execute_result"
    }
   ],
   "source": [
    "def evalp1(data, graphics)\n",
    "  shop = {\"Weapons\" => [[8,   4, 0],\n",
    "                        [10,  5, 0],\n",
    "                        [25,  6, 0],\n",
    "                        [40,  7, 0],\n",
    "                        [74,  8, 0]],\n",
    "          \"Armor\" =>   [[13,  0, 1],\n",
    "                        [31,  0, 2],\n",
    "                        [53,  0, 3],\n",
    "                        [75,  0, 4],\n",
    "                        [102, 0, 5],\n",
    "                        [0,   0, 0]],\n",
    "          \"Rings\" =>   [[25,  1, 0],\n",
    "                        [50,  2, 0],\n",
    "                        [100, 3, 0],\n",
    "                        [20,  0, 1],\n",
    "                        [40,  0, 2],\n",
    "                        [80,  0, 3],\n",
    "                        [0,   0, 0]]}\n",
    "  hitpoints = 100\n",
    "  combinations(shop).sort_by { |combo| combo[0] }.each do |combo|\n",
    "    return [combo[0], shop] if battle(data, [hitpoints] + combo[1..-1])\n",
    "  end\n",
    "end"
   ]
  },
  {
   "cell_type": "code",
   "execution_count": 20,
   "metadata": {
    "collapsed": false
   },
   "outputs": [
    {
     "data": {
      "text/plain": [
       ":evalp2"
      ]
     },
     "execution_count": 20,
     "metadata": {},
     "output_type": "execute_result"
    }
   ],
   "source": [
    "def evalp2(data, part1, graphics)\n",
    "  hitpoints = 100\n",
    "  combinations(part1).sort_by { |combo| combo[0] }.reverse_each do |combo|\n",
    "    return combo[0] unless battle(data, [hitpoints] + combo[1..-1])\n",
    "  end\n",
    "end"
   ]
  },
  {
   "cell_type": "code",
   "execution_count": 5,
   "metadata": {
    "collapsed": false
   },
   "outputs": [
    {
     "data": {
      "text/plain": [
       ":combinations"
      ]
     },
     "execution_count": 5,
     "metadata": {},
     "output_type": "execute_result"
    }
   ],
   "source": [
    "def combinations(shop)\n",
    "  combos = []\n",
    "  shop[\"Weapons\"].each do |weapon|\n",
    "    shop[\"Armor\"].each do |armor|\n",
    "      shop[\"Rings\"].each do |ring1|\n",
    "        shop[\"Rings\"].each do |ring2|\n",
    "          next if ring2 != [0, 0, 0] && ring1 == ring2\n",
    "          shop[\"Rings\"].each do |ring3|\n",
    "            next if ring3 != [0, 0, 0] && (ring1 == ring3 || ring2 == ring3)\n",
    "            combos << [weapon, armor, ring1, ring2, ring3].transpose.map { |stat| stat.inject(:+) }\n",
    "          end\n",
    "        end\n",
    "      end\n",
    "    end\n",
    "  end\n",
    "  return combos\n",
    "end"
   ]
  },
  {
   "cell_type": "code",
   "execution_count": 6,
   "metadata": {
    "collapsed": false
   },
   "outputs": [
    {
     "data": {
      "text/plain": [
       ":battle"
      ]
     },
     "execution_count": 6,
     "metadata": {},
     "output_type": "execute_result"
    }
   ],
   "source": [
    "def battle(boss, player)\n",
    "  bh, bd, ba = boss\n",
    "  ph, pd, pa = player\n",
    "  playerturn = true\n",
    "  loop do\n",
    "    if playerturn\n",
    "      damage = pd-ba\n",
    "      damage = 1 if damage < 1\n",
    "      bh -= damage\n",
    "      return true if bh <= 0\n",
    "    else\n",
    "      damage = bd-pa\n",
    "      damage = 1 if damage < 1\n",
    "      ph -= damage\n",
    "      return false if ph <= 0\n",
    "    end\n",
    "    playerturn = !playerturn\n",
    "  end\n",
    "end"
   ]
  },
  {
   "cell_type": "code",
   "execution_count": 23,
   "metadata": {
    "collapsed": false
   },
   "outputs": [
    {
     "name": "stdout",
     "output_type": "stream",
     "text": [
      "Part 1:\n",
      "111\n",
      "Part 2:\n",
      "188\n"
     ]
    }
   ],
   "source": [
    "main"
   ]
  }
 ],
 "metadata": {
  "kernelspec": {
   "display_name": "Ruby 2.2.4",
   "language": "ruby",
   "name": "ruby"
  },
  "language_info": {
   "file_extension": ".rb",
   "mimetype": "application/x-ruby",
   "name": "ruby",
   "version": "2.2.4"
  }
 },
 "nbformat": 4,
 "nbformat_minor": 0
}
