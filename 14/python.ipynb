{
 "cells": [
  {
   "cell_type": "code",
   "execution_count": 1,
   "metadata": {
    "collapsed": true
   },
   "outputs": [],
   "source": [
    "import re"
   ]
  },
  {
   "cell_type": "code",
   "execution_count": 2,
   "metadata": {
    "collapsed": true
   },
   "outputs": [],
   "source": [
    "input_file = open(\"input.txt\")\n",
    "data = [line.strip() for line in input_file.readlines()]\n",
    "input_file.close()"
   ]
  },
  {
   "cell_type": "code",
   "execution_count": 3,
   "metadata": {
    "collapsed": true
   },
   "outputs": [],
   "source": [
    "parse = re.compile(\"([a-z]+) can fly ([0-9]+) km/s for ([0-9]+) second[s]?, but then must rest for ([0-9]+) second[s]?\\.\", re.I)"
   ]
  },
  {
   "cell_type": "code",
   "execution_count": 4,
   "metadata": {
    "collapsed": true
   },
   "outputs": [],
   "source": [
    "speeds = [parse.match(line).groups() for line in data]"
   ]
  },
  {
   "cell_type": "code",
   "execution_count": 22,
   "metadata": {
    "collapsed": true
   },
   "outputs": [],
   "source": [
    "reindeer = {name: [int(speed), int(time), int(rest)] for name, speed, time, rest in speeds}"
   ]
  },
  {
   "cell_type": "code",
   "execution_count": 23,
   "metadata": {
    "collapsed": false
   },
   "outputs": [],
   "source": [
    "distances = []\n",
    "max_time = 2503\n",
    "for name, speed in reindeer.items():\n",
    "    distance = 0\n",
    "    time = 0\n",
    "    while time < max_time:\n",
    "        if (time + speed[1]) >= max_time:\n",
    "            distance += (speed[0] * (max_time - time))\n",
    "            break\n",
    "        else:\n",
    "            distance += (speed[0] * speed[1])\n",
    "            time += (speed[1] + speed[2])\n",
    "    distances.append(distance)"
   ]
  },
  {
   "cell_type": "code",
   "execution_count": 24,
   "metadata": {
    "collapsed": false
   },
   "outputs": [
    {
     "name": "stdout",
     "output_type": "stream",
     "text": [
      "2655\n"
     ]
    }
   ],
   "source": [
    "print(max(distances))"
   ]
  },
  {
   "cell_type": "code",
   "execution_count": 25,
   "metadata": {
    "collapsed": true
   },
   "outputs": [],
   "source": [
    "points = {name: 0 for name in reindeer.keys()}"
   ]
  },
  {
   "cell_type": "code",
   "execution_count": 31,
   "metadata": {
    "collapsed": true
   },
   "outputs": [],
   "source": [
    "for name in reindeer.keys():\n",
    "    reindeer[name][3:] = [0, False, 0]"
   ]
  },
  {
   "cell_type": "code",
   "execution_count": 32,
   "metadata": {
    "collapsed": false
   },
   "outputs": [],
   "source": [
    "max_time = 2503\n",
    "for i in range(1, max_time+1):\n",
    "    ahead = ['', 0]\n",
    "    for name, info in reindeer.items():\n",
    "        speed, time, rest, distance, resting, last = info\n",
    "        if resting:\n",
    "            if last + rest == i:\n",
    "                resting = False\n",
    "                last = i\n",
    "        else:\n",
    "            distance += speed\n",
    "            if last + time == i:\n",
    "                resting = True\n",
    "                last = i\n",
    "        reindeer[name][3:] = [distance, resting, last]\n",
    "        if distance > ahead[1]:\n",
    "            ahead = [name, distance]\n",
    "    points[ahead[0]] += 1"
   ]
  },
  {
   "cell_type": "code",
   "execution_count": 35,
   "metadata": {
    "collapsed": false
   },
   "outputs": [
    {
     "name": "stdout",
     "output_type": "stream",
     "text": [
      "1059\n"
     ]
    }
   ],
   "source": [
    "print(max(points.values()))"
   ]
  }
 ],
 "metadata": {
  "kernelspec": {
   "display_name": "Python 3",
   "language": "python",
   "name": "python3"
  },
  "language_info": {
   "codemirror_mode": {
    "name": "ipython",
    "version": 3
   },
   "file_extension": ".py",
   "mimetype": "text/x-python",
   "name": "python",
   "nbconvert_exporter": "python",
   "pygments_lexer": "ipython3",
   "version": "3.4.3"
  }
 },
 "nbformat": 4,
 "nbformat_minor": 0
}
