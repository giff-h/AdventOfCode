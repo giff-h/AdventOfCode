{
 "cells": [
  {
   "cell_type": "code",
   "execution_count": 5,
   "metadata": {
    "collapsed": true
   },
   "outputs": [],
   "source": [
    "graphics = False"
   ]
  },
  {
   "cell_type": "code",
   "execution_count": 20,
   "metadata": {
    "collapsed": true
   },
   "outputs": [],
   "source": [
    "def main():\n",
    "    with open(\"input.txt\") as file:\n",
    "        data = file.read().strip()\n",
    "    if \"\\n\" in data:\n",
    "        data = data.split(\"\\n\")\n",
    "    data = process_input(data)\n",
    "    part1 = evalp1(data, graphics)\n",
    "    print(\"Part 1:\")\n",
    "    print(part1[0])\n",
    "    print(\"Part 2:\")\n",
    "    print(evalp2(data, part1[1], graphics))"
   ]
  },
  {
   "cell_type": "code",
   "execution_count": 13,
   "metadata": {
    "collapsed": true
   },
   "outputs": [],
   "source": [
    "def process_input(inp):\n",
    "    return [sorted(map(int, line.split('x'))) for line in inp]"
   ]
  },
  {
   "cell_type": "code",
   "execution_count": 11,
   "metadata": {
    "collapsed": true
   },
   "outputs": [],
   "source": [
    "def evalp1(data, graphics):\n",
    "    return (sum(wrapping(box) for box in data), None)"
   ]
  },
  {
   "cell_type": "code",
   "execution_count": 17,
   "metadata": {
    "collapsed": true
   },
   "outputs": [],
   "source": [
    "def evalp2(data, part1, graphics):\n",
    "    return sum(2*box[0] + 2*box[1] + box[0]*box[1]*box[2] for box in data)"
   ]
  },
  {
   "cell_type": "code",
   "execution_count": 15,
   "metadata": {
    "collapsed": true
   },
   "outputs": [],
   "source": [
    "def wrapping(box):\n",
    "    h, l, w = box\n",
    "    return 3*h*l + 2*h*w + 2*l*w # 3hl because adding another for slack"
   ]
  },
  {
   "cell_type": "code",
   "execution_count": 21,
   "metadata": {
    "collapsed": false
   },
   "outputs": [
    {
     "name": "stdout",
     "output_type": "stream",
     "text": [
      "Part 1:\n",
      "1598415\n",
      "Part 2:\n",
      "3812909\n"
     ]
    }
   ],
   "source": [
    "main()"
   ]
  }
 ],
 "metadata": {
  "kernelspec": {
   "display_name": "Python 3",
   "language": "python",
   "name": "python3"
  },
  "language_info": {
   "codemirror_mode": {
    "name": "ipython",
    "version": 3
   },
   "file_extension": ".py",
   "mimetype": "text/x-python",
   "name": "python",
   "nbconvert_exporter": "python",
   "pygments_lexer": "ipython3",
   "version": "3.5.1"
  }
 },
 "nbformat": 4,
 "nbformat_minor": 0
}
