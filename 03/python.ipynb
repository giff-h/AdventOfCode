{
 "cells": [
  {
   "cell_type": "code",
   "execution_count": 18,
   "metadata": {
    "collapsed": true
   },
   "outputs": [],
   "source": [
    "input_file = open(\"input.txt\")\n",
    "data = input_file.read()\n",
    "input_file.close()"
   ]
  },
  {
   "cell_type": "code",
   "execution_count": 19,
   "metadata": {
    "collapsed": false
   },
   "outputs": [
    {
     "name": "stdout",
     "output_type": "stream",
     "text": [
      "2572\n"
     ]
    }
   ],
   "source": [
    "x = 0\n",
    "y = 0\n",
    "grid = {(x, y)}\n",
    "for d in data:\n",
    "    if d == '>':\n",
    "        y += 1\n",
    "    elif d == '<':\n",
    "        y -= 1\n",
    "    elif d == 'v':\n",
    "        x += 1\n",
    "    elif d == '^':\n",
    "        x -= 1\n",
    "    grid.add((x, y))\n",
    "print(len(grid))"
   ]
  },
  {
   "cell_type": "code",
   "execution_count": 22,
   "metadata": {
    "collapsed": false
   },
   "outputs": [
    {
     "name": "stdout",
     "output_type": "stream",
     "text": [
      "2631\n"
     ]
    }
   ],
   "source": [
    "x = 0\n",
    "y = 0\n",
    "robotx = 0\n",
    "roboty = 0\n",
    "grids = [{(x, y)}, {(robotx, roboty)}]\n",
    "for i in range(len(data)):\n",
    "    d = data[i]\n",
    "    if i % 2 == 0:\n",
    "        if d == '>':\n",
    "            y += 1\n",
    "        elif d == '<':\n",
    "            y -= 1\n",
    "        elif d == 'v':\n",
    "            x += 1\n",
    "        elif d == '^':\n",
    "            x -= 1\n",
    "        grids[0].add((x, y))\n",
    "    else:\n",
    "        if d == '>':\n",
    "            roboty += 1\n",
    "        elif d == '<':\n",
    "            roboty -= 1\n",
    "        elif d == 'v':\n",
    "            robotx += 1\n",
    "        elif d == '^':\n",
    "            robotx -= 1\n",
    "        grids[1].add((robotx, roboty))\n",
    "print(len(grids[0] | grids[1]))"
   ]
  }
 ],
 "metadata": {
  "kernelspec": {
   "display_name": "Python 3",
   "language": "python",
   "name": "python3"
  },
  "language_info": {
   "codemirror_mode": {
    "name": "ipython",
    "version": 3
   },
   "file_extension": ".py",
   "mimetype": "text/x-python",
   "name": "python",
   "nbconvert_exporter": "python",
   "pygments_lexer": "ipython3",
   "version": "3.4.3"
  }
 },
 "nbformat": 4,
 "nbformat_minor": 0
}
