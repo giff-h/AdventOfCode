{
 "cells": [
  {
   "cell_type": "code",
   "execution_count": 1,
   "metadata": {
    "collapsed": true
   },
   "outputs": [],
   "source": [
    "graphics = False"
   ]
  },
  {
   "cell_type": "code",
   "execution_count": 18,
   "metadata": {
    "collapsed": true
   },
   "outputs": [],
   "source": [
    "def main():\n",
    "    with open(\"input.txt\") as file:\n",
    "        data = file.read().strip()\n",
    "    if \"\\n\" in data:\n",
    "        data = data.split(\"\\n\")\n",
    "    data = process_input(data)\n",
    "    part1 = evalp1(data, graphics)\n",
    "    print(\"Part 1:\")\n",
    "    print(part1[0])\n",
    "    print(\"Part 2:\")\n",
    "    print(evalp2(data, part1[1], graphics))"
   ]
  },
  {
   "cell_type": "code",
   "execution_count": 10,
   "metadata": {
    "collapsed": true
   },
   "outputs": [],
   "source": [
    "def process_input(inp):\n",
    "    return inp"
   ]
  },
  {
   "cell_type": "code",
   "execution_count": 13,
   "metadata": {
    "collapsed": true
   },
   "outputs": [],
   "source": [
    "def evalp1(data, graphics):\n",
    "    house = (0, 0)\n",
    "    houses = [house]\n",
    "    for d in data:\n",
    "        house = step(house, d)\n",
    "        if not house in houses:\n",
    "            houses.append(house)\n",
    "    return (len(houses), None)"
   ]
  },
  {
   "cell_type": "code",
   "execution_count": 25,
   "metadata": {
    "collapsed": true
   },
   "outputs": [],
   "source": [
    "def evalp2(data, part1, graphics):\n",
    "    santahouse = (0, 0)\n",
    "    robothouse = (0, 0)\n",
    "    houses = [santahouse]\n",
    "    for i, d in enumerate(data):\n",
    "        if i % 2:\n",
    "            robothouse = step(robothouse, d)\n",
    "            if not robothouse in houses:\n",
    "                houses.append(robothouse)\n",
    "        else:\n",
    "            santahouse = step(santahouse, d)\n",
    "            if not santahouse in houses:\n",
    "                houses.append(santahouse)\n",
    "    return len(houses)"
   ]
  },
  {
   "cell_type": "code",
   "execution_count": 17,
   "metadata": {
    "collapsed": true
   },
   "outputs": [],
   "source": [
    "def step(house, direction):\n",
    "    if direction == '>':\n",
    "        return (house[0]+1, house[1])\n",
    "    elif direction == '<':\n",
    "        return (house[0]-1, house[1])\n",
    "    elif direction == '^':\n",
    "        return (house[0], house[1]+1)\n",
    "    elif direction == 'v':\n",
    "        return (house[0], house[1]-1)"
   ]
  },
  {
   "cell_type": "code",
   "execution_count": 27,
   "metadata": {
    "collapsed": false
   },
   "outputs": [
    {
     "name": "stdout",
     "output_type": "stream",
     "text": [
      "Part 1:\n",
      "2572\n",
      "Part 2:\n",
      "2631\n"
     ]
    }
   ],
   "source": [
    "main()"
   ]
  }
 ],
 "metadata": {
  "kernelspec": {
   "display_name": "Python 3",
   "language": "python",
   "name": "python3"
  },
  "language_info": {
   "codemirror_mode": {
    "name": "ipython",
    "version": 3
   },
   "file_extension": ".py",
   "mimetype": "text/x-python",
   "name": "python",
   "nbconvert_exporter": "python",
   "pygments_lexer": "ipython3",
   "version": "3.5.1"
  }
 },
 "nbformat": 4,
 "nbformat_minor": 0
}
