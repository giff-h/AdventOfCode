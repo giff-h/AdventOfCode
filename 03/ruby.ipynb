{
 "cells": [
  {
   "cell_type": "code",
   "execution_count": 1,
   "metadata": {
    "collapsed": false
   },
   "outputs": [
    {
     "data": {
      "text/plain": [
       "false"
      ]
     },
     "execution_count": 1,
     "metadata": {},
     "output_type": "execute_result"
    }
   ],
   "source": [
    "GRAPHICS = false"
   ]
  },
  {
   "cell_type": "code",
   "execution_count": 24,
   "metadata": {
    "collapsed": false
   },
   "outputs": [
    {
     "data": {
      "text/plain": [
       ":main"
      ]
     },
     "execution_count": 24,
     "metadata": {},
     "output_type": "execute_result"
    }
   ],
   "source": [
    "def main\n",
    "  input = File.read(\"input.txt\").chomp\n",
    "  input = input.split(\"\\n\") if input.include?(\"\\n\")\n",
    "  data = process_input(input)\n",
    "  part1 = evalp1(data, GRAPHICS)\n",
    "  puts(\"Part 1:\", part1[0])\n",
    "  puts(\"Part 2:\", evalp2(data, part1[1], GRAPHICS))\n",
    "end"
   ]
  },
  {
   "cell_type": "code",
   "execution_count": 3,
   "metadata": {
    "collapsed": false
   },
   "outputs": [
    {
     "data": {
      "text/plain": [
       ":process_input"
      ]
     },
     "execution_count": 3,
     "metadata": {},
     "output_type": "execute_result"
    }
   ],
   "source": [
    "def process_input(input)\n",
    "  return input\n",
    "end"
   ]
  },
  {
   "cell_type": "code",
   "execution_count": 33,
   "metadata": {
    "collapsed": false
   },
   "outputs": [
    {
     "data": {
      "text/plain": [
       ":evalp1"
      ]
     },
     "execution_count": 33,
     "metadata": {},
     "output_type": "execute_result"
    }
   ],
   "source": [
    "def evalp1(data, graphics)\n",
    "  house = [0, 0]\n",
    "  houses = [house]\n",
    "  houses += data.each_char.collect { |d| house = step(house, d) }\n",
    "  return [houses.uniq.size, nil]\n",
    "end"
   ]
  },
  {
   "cell_type": "code",
   "execution_count": 32,
   "metadata": {
    "collapsed": false
   },
   "outputs": [
    {
     "data": {
      "text/plain": [
       ":evalp2"
      ]
     },
     "execution_count": 32,
     "metadata": {},
     "output_type": "execute_result"
    }
   ],
   "source": [
    "def evalp2(data, part1, graphics)\n",
    "  santahouse = [0, 0]\n",
    "  robothouse = [0, 0]\n",
    "  houses = [santahouse]\n",
    "  data.each_char.each_with_index do |d, i|\n",
    "    if i.even?\n",
    "      houses << santahouse = step(santahouse, d)\n",
    "    else\n",
    "      houses << robothouse = step(robothouse, d)\n",
    "    end\n",
    "  end\n",
    "  return houses.uniq.size\n",
    "end"
   ]
  },
  {
   "cell_type": "code",
   "execution_count": 19,
   "metadata": {
    "collapsed": false
   },
   "outputs": [
    {
     "data": {
      "text/plain": [
       ":step"
      ]
     },
     "execution_count": 19,
     "metadata": {},
     "output_type": "execute_result"
    }
   ],
   "source": [
    "def step(house, direction)\n",
    "  case direction\n",
    "  when '>' then return [house[0]+1, house[1]]\n",
    "  when '<' then return [house[0]-1, house[1]]\n",
    "  when '^' then return [house[0], house[1]+1]\n",
    "  when 'v' then return [house[0], house[1]-1]\n",
    "  end\n",
    "end"
   ]
  },
  {
   "cell_type": "code",
   "execution_count": 35,
   "metadata": {
    "collapsed": false
   },
   "outputs": [
    {
     "name": "stdout",
     "output_type": "stream",
     "text": [
      "Part 1:\n",
      "2572\n",
      "Part 2:\n",
      "2631\n"
     ]
    }
   ],
   "source": [
    "main"
   ]
  }
 ],
 "metadata": {
  "kernelspec": {
   "display_name": "Ruby 2.2.4",
   "language": "ruby",
   "name": "ruby"
  },
  "language_info": {
   "file_extension": ".rb",
   "mimetype": "application/x-ruby",
   "name": "ruby",
   "version": "2.2.4"
  }
 },
 "nbformat": 4,
 "nbformat_minor": 0
}
