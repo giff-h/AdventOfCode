{
 "cells": [
  {
   "cell_type": "code",
   "execution_count": 2,
   "metadata": {
    "collapsed": true
   },
   "outputs": [],
   "source": [
    "import re\n",
    "from functools import reduce"
   ]
  },
  {
   "cell_type": "code",
   "execution_count": 3,
   "metadata": {
    "collapsed": true
   },
   "outputs": [],
   "source": [
    "input_file = open(\"input.txt\")\n",
    "data = [line.strip() for line in input_file.readlines()]\n",
    "input_file.close()"
   ]
  },
  {
   "cell_type": "code",
   "execution_count": 4,
   "metadata": {
    "collapsed": true
   },
   "outputs": [],
   "source": [
    "parse = re.compile(\"([a-z]+): capacity (-?[0-9]+), durability (-?[0-9]+), flavor (-?[0-9]+), texture (-?[0-9]+), calories (-?[0-9])+\", re.I)"
   ]
  },
  {
   "cell_type": "code",
   "execution_count": 12,
   "metadata": {
    "collapsed": false
   },
   "outputs": [],
   "source": [
    "ingredients_raw = [parse.match(line).groups() for line in data]\n",
    "ingredients = [(int(capacity), int(durability), int(flavor), int(texture), int(calories)) for name, capacity, durability, flavor, texture, calories in ingredients_raw]"
   ]
  },
  {
   "cell_type": "code",
   "execution_count": 13,
   "metadata": {
    "collapsed": false
   },
   "outputs": [
    {
     "data": {
      "text/plain": [
       "[(3, 0, 0, -3, 2), (-3, 3, 0, 0, 9), (-1, 0, 4, 0, 1), (0, 0, -2, 2, 8)]"
      ]
     },
     "execution_count": 13,
     "metadata": {},
     "output_type": "execute_result"
    }
   ],
   "source": [
    "ingredients"
   ]
  },
  {
   "cell_type": "code",
   "execution_count": 17,
   "metadata": {
    "collapsed": false
   },
   "outputs": [],
   "source": [
    "max_score = [0, 0, 0, 0, 0]\n",
    "for a in range(101):\n",
    "    for b in range(101-a):\n",
    "        for c in range(101-(a+b)):\n",
    "            d = 100 - (a+b+c)\n",
    "            properties = list(zip(*ingredients))[:4]\n",
    "            properties = [a*prop[0] + b*prop[1] + c*prop[2] + d*prop[3] for prop in properties]\n",
    "            zero = False\n",
    "            if any(prop < 0 for prop in properties):\n",
    "                continue\n",
    "            score = reduce(lambda x,y: x*y, properties)\n",
    "            if score > max_score[0]:\n",
    "                max_score = [score, a, b, c, d]"
   ]
  },
  {
   "cell_type": "code",
   "execution_count": 18,
   "metadata": {
    "collapsed": false
   },
   "outputs": [
    {
     "data": {
      "text/plain": [
       "[222870, 21, 5, 31, 43]"
      ]
     },
     "execution_count": 18,
     "metadata": {},
     "output_type": "execute_result"
    }
   ],
   "source": [
    "max_score"
   ]
  },
  {
   "cell_type": "code",
   "execution_count": 19,
   "metadata": {
    "collapsed": false
   },
   "outputs": [],
   "source": [
    "max_score = [0, 0, 0, 0, 0]\n",
    "for a in range(101):\n",
    "    for b in range(101-a):\n",
    "        for c in range(101-(a+b)):\n",
    "            d = 100 - (a+b+c)\n",
    "            properties = zip(*ingredients)\n",
    "            properties = [a*prop[0] + b*prop[1] + c*prop[2] + d*prop[3] for prop in properties]\n",
    "            properties, calories = properties[:4], properties[4]\n",
    "            zero = False\n",
    "            if any(prop < 0 for prop in properties):\n",
    "                continue\n",
    "            score = reduce(lambda x,y: x*y, properties)\n",
    "            if calories == 500 and score > max_score[0]:\n",
    "                max_score = [score, a, b, c, d]"
   ]
  },
  {
   "cell_type": "code",
   "execution_count": 20,
   "metadata": {
    "collapsed": false
   },
   "outputs": [
    {
     "data": {
      "text/plain": [
       "[117936, 21, 8, 26, 45]"
      ]
     },
     "execution_count": 20,
     "metadata": {},
     "output_type": "execute_result"
    }
   ],
   "source": [
    "max_score"
   ]
  }
 ],
 "metadata": {
  "kernelspec": {
   "display_name": "Python 3",
   "language": "python",
   "name": "python3"
  },
  "language_info": {
   "codemirror_mode": {
    "name": "ipython",
    "version": 3
   },
   "file_extension": ".py",
   "mimetype": "text/x-python",
   "name": "python",
   "nbconvert_exporter": "python",
   "pygments_lexer": "ipython3",
   "version": "3.4.3"
  }
 },
 "nbformat": 4,
 "nbformat_minor": 0
}
