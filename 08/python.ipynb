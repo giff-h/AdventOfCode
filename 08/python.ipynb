{
 "cells": [
  {
   "cell_type": "code",
   "execution_count": 1,
   "metadata": {
    "collapsed": true
   },
   "outputs": [],
   "source": [
    "input_file = open(\"input.txt\")\n",
    "data = [line.strip() for line in input_file.readlines()]\n",
    "input_file.close()"
   ]
  },
  {
   "cell_type": "code",
   "execution_count": 2,
   "metadata": {
    "collapsed": false
   },
   "outputs": [
    {
     "name": "stdout",
     "output_type": "stream",
     "text": [
      "1371\n"
     ]
    }
   ],
   "source": [
    "print(sum([len(line) for line in data]) - sum([len(eval(line)) for line in data]))"
   ]
  },
  {
   "cell_type": "code",
   "execution_count": 31,
   "metadata": {
    "collapsed": false
   },
   "outputs": [
    {
     "name": "stdout",
     "output_type": "stream",
     "text": [
      "2117\n"
     ]
    }
   ],
   "source": [
    "def string_to_c(s, max_length = 140, unicode=False):\n",
    "    ret = []\n",
    "\n",
    "    # Try to split on whitespace, not in the middle of a word.\n",
    "    split_at_space_pos = max_length - 10\n",
    "    if split_at_space_pos < 10:\n",
    "        split_at_space_pos = None\n",
    "\n",
    "    position = 0\n",
    "    if unicode:\n",
    "        position += 1\n",
    "        ret.append('L')\n",
    "\n",
    "    ret.append('\"')\n",
    "    position += 1\n",
    "    for c in s:\n",
    "        newline = False\n",
    "        if c == \"\\n\":\n",
    "            to_add = \"\\\\\\n\"\n",
    "            newline = True\n",
    "        elif ord(c) < 32 or 0x80 <= ord(c) <= 0xff:\n",
    "            to_add = \"\\\\x%02x\" % ord(c)\n",
    "        elif ord(c) > 0xff:\n",
    "            if not unicode:\n",
    "                raise \"string contains unicode character but unicode=False\"\n",
    "            to_add = \"\\\\u%04x\" % ord(c)\n",
    "        elif \"\\\\\\\"\".find(c) != -1:\n",
    "            to_add = \"\\\\%c\" % c\n",
    "        else:\n",
    "            to_add = c\n",
    "\n",
    "        ret.append(to_add)\n",
    "        position += len(to_add)\n",
    "        if newline:\n",
    "            position = 0\n",
    "\n",
    "        if split_at_space_pos is not None and position >= split_at_space_pos and \" \\t\".find(c) != -1:\n",
    "            ret.append(\"\\\\\\n\")\n",
    "            position = 0\n",
    "        elif position >= max_length:\n",
    "            ret.append(\"\\\\\\n\")\n",
    "            position = 0\n",
    "\n",
    "    ret.append('\"')\n",
    "\n",
    "    return \"\".join(ret)\n",
    "\n",
    "print(sum([len(string_to_c(line)) for line in data]) - sum([len(line) for line in data]))"
   ]
  }
 ],
 "metadata": {
  "kernelspec": {
   "display_name": "Python 3",
   "language": "python",
   "name": "python3"
  },
  "language_info": {
   "codemirror_mode": {
    "name": "ipython",
    "version": 3
   },
   "file_extension": ".py",
   "mimetype": "text/x-python",
   "name": "python",
   "nbconvert_exporter": "python",
   "pygments_lexer": "ipython3",
   "version": "3.4.3"
  }
 },
 "nbformat": 4,
 "nbformat_minor": 0
}
